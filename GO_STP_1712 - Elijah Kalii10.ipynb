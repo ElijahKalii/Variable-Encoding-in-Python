{
 "cells": [
  {
   "cell_type": "markdown",
   "id": "6fa5152f",
   "metadata": {},
   "source": [
    "### One-Hot-Encoding, Multicollinearity and the Dummy Variable Trap"
   ]
  },
  {
   "cell_type": "markdown",
   "id": "94d47540",
   "metadata": {},
   "source": [
    "#### One-Hot-Encoding"
   ]
  },
  {
   "cell_type": "markdown",
   "id": "a60c7e51",
   "metadata": {},
   "source": [
    "Dummy variables are used for classifying categorical variables into a binary vector of 0 and 1 so that the computer can understand them. All elements of the vector are 0 except the element that matches the actual category which takes the value of The length of the vector is equal to the number of categories.\n",
    "\n",
    "OneHotEncorder is a sklearn implementation of dummy variables. Dummies are executed outside sklearn by use of pandas. "
   ]
  },
  {
   "cell_type": "markdown",
   "id": "5184a78a",
   "metadata": {},
   "source": [
    "#### Dummy Variable Trap\n",
    "\n",
    "Because dummy variable vectors take values of either 0 or 1 and because their length has to match that of the cateogry, it will create extra columns on the dataset with each column representing one category. This can create a problem of dummy variable trap in our model by causing our features to be multicollinear.\n",
    "\n",
    "#### Multicollinearity\n",
    "Multicollinearity is the ability of one or more features to predict or be predicted by other features. Multicollinearity can distort our model. We should not have any feature that can be predicted by the help of another feature/s. To solve this problem, we need to drop/delete one column from those columns created by dummy variables. This is however not mandatory when working with sklearn as the library is confiqured to detect and disregard the excess/base column automatically. "
   ]
  },
  {
   "cell_type": "markdown",
   "id": "134c1e87",
   "metadata": {},
   "source": [
    "### What is Nominal and Ordinal Variables"
   ]
  },
  {
   "cell_type": "markdown",
   "id": "645658e1",
   "metadata": {},
   "source": [
    "#### Nominal Variables\n",
    "These are variables whose order does not matter. This means one variable cannot then be ranked or infered as supperior/better/worse than another. Examples are Male/Female, Sales/Marketing, English/French, NewYork/London, etc\n",
    "\n",
    "#### Ordinal Variables\n",
    "These are variables whose order matter. Therefore, an element of one category in an ordinal variable can be deemed to be superior/better/worse than another element in a different category. Examples are College degree rankings (Bachelor/Masters/PHD), Marathon winners(Gold/Bronze/Silver), Survey results(Low/Medium/High), etc   "
   ]
  },
  {
   "cell_type": "code",
   "execution_count": 17,
   "id": "fd8d5b57",
   "metadata": {
    "scrolled": true
   },
   "outputs": [
    {
     "name": "stdout",
     "output_type": "stream",
     "text": [
      "(52, 6)\n"
     ]
    },
    {
     "data": {
      "text/html": [
       "<div>\n",
       "<style scoped>\n",
       "    .dataframe tbody tr th:only-of-type {\n",
       "        vertical-align: middle;\n",
       "    }\n",
       "\n",
       "    .dataframe tbody tr th {\n",
       "        vertical-align: top;\n",
       "    }\n",
       "\n",
       "    .dataframe thead th {\n",
       "        text-align: right;\n",
       "    }\n",
       "</style>\n",
       "<table border=\"1\" class=\"dataframe\">\n",
       "  <thead>\n",
       "    <tr style=\"text-align: right;\">\n",
       "      <th></th>\n",
       "      <th>sx</th>\n",
       "      <th>rk</th>\n",
       "      <th>yr</th>\n",
       "      <th>dg</th>\n",
       "      <th>yd</th>\n",
       "      <th>sl</th>\n",
       "    </tr>\n",
       "  </thead>\n",
       "  <tbody>\n",
       "    <tr>\n",
       "      <th>0</th>\n",
       "      <td>male</td>\n",
       "      <td>full</td>\n",
       "      <td>5</td>\n",
       "      <td>doctorate</td>\n",
       "      <td>18</td>\n",
       "      <td>25400</td>\n",
       "    </tr>\n",
       "    <tr>\n",
       "      <th>1</th>\n",
       "      <td>male</td>\n",
       "      <td>full</td>\n",
       "      <td>6</td>\n",
       "      <td>masters</td>\n",
       "      <td>21</td>\n",
       "      <td>24450</td>\n",
       "    </tr>\n",
       "    <tr>\n",
       "      <th>2</th>\n",
       "      <td>male</td>\n",
       "      <td>full</td>\n",
       "      <td>7</td>\n",
       "      <td>doctorate</td>\n",
       "      <td>13</td>\n",
       "      <td>27959</td>\n",
       "    </tr>\n",
       "    <tr>\n",
       "      <th>3</th>\n",
       "      <td>male</td>\n",
       "      <td>full</td>\n",
       "      <td>7</td>\n",
       "      <td>doctorate</td>\n",
       "      <td>15</td>\n",
       "      <td>29342</td>\n",
       "    </tr>\n",
       "    <tr>\n",
       "      <th>4</th>\n",
       "      <td>male</td>\n",
       "      <td>full</td>\n",
       "      <td>9</td>\n",
       "      <td>doctorate</td>\n",
       "      <td>17</td>\n",
       "      <td>28200</td>\n",
       "    </tr>\n",
       "  </tbody>\n",
       "</table>\n",
       "</div>"
      ],
      "text/plain": [
       "     sx    rk  yr         dg  yd     sl\n",
       "0  male  full   5  doctorate  18  25400\n",
       "1  male  full   6    masters  21  24450\n",
       "2  male  full   7  doctorate  13  27959\n",
       "3  male  full   7  doctorate  15  29342\n",
       "4  male  full   9  doctorate  17  28200"
      ]
     },
     "execution_count": 17,
     "metadata": {},
     "output_type": "execute_result"
    }
   ],
   "source": [
    "import pandas as pd\n",
    "import numpy as np\n",
    "from sklearn.metrics import accuracy_score as acs\n",
    "\n",
    "salary_data = pd.read_csv('salary.csv')\n",
    "\n",
    "print(salary_data.shape)\n",
    "salary_data.head()"
   ]
  },
  {
   "cell_type": "code",
   "execution_count": 43,
   "id": "3b8a68fa",
   "metadata": {},
   "outputs": [],
   "source": [
    "#Split dataset into features and labels\n",
    "X = salary_data.iloc[:, :-1]\n",
    "y = salary_data.iloc[:, -1]"
   ]
  },
  {
   "cell_type": "markdown",
   "id": "b9415f72",
   "metadata": {},
   "source": [
    "### Dummy Encoding\n",
    "\n",
    "#### Encoding the norminal variable"
   ]
  },
  {
   "cell_type": "code",
   "execution_count": 45,
   "id": "e2b7a24a",
   "metadata": {
    "scrolled": true
   },
   "outputs": [
    {
     "data": {
      "text/html": [
       "<div>\n",
       "<style scoped>\n",
       "    .dataframe tbody tr th:only-of-type {\n",
       "        vertical-align: middle;\n",
       "    }\n",
       "\n",
       "    .dataframe tbody tr th {\n",
       "        vertical-align: top;\n",
       "    }\n",
       "\n",
       "    .dataframe thead th {\n",
       "        text-align: right;\n",
       "    }\n",
       "</style>\n",
       "<table border=\"1\" class=\"dataframe\">\n",
       "  <thead>\n",
       "    <tr style=\"text-align: right;\">\n",
       "      <th></th>\n",
       "      <th>female</th>\n",
       "      <th>male</th>\n",
       "    </tr>\n",
       "  </thead>\n",
       "  <tbody>\n",
       "    <tr>\n",
       "      <th>0</th>\n",
       "      <td>0</td>\n",
       "      <td>1</td>\n",
       "    </tr>\n",
       "    <tr>\n",
       "      <th>1</th>\n",
       "      <td>0</td>\n",
       "      <td>1</td>\n",
       "    </tr>\n",
       "    <tr>\n",
       "      <th>2</th>\n",
       "      <td>0</td>\n",
       "      <td>1</td>\n",
       "    </tr>\n",
       "    <tr>\n",
       "      <th>3</th>\n",
       "      <td>0</td>\n",
       "      <td>1</td>\n",
       "    </tr>\n",
       "    <tr>\n",
       "      <th>4</th>\n",
       "      <td>0</td>\n",
       "      <td>1</td>\n",
       "    </tr>\n",
       "  </tbody>\n",
       "</table>\n",
       "</div>"
      ],
      "text/plain": [
       "   female  male\n",
       "0       0     1\n",
       "1       0     1\n",
       "2       0     1\n",
       "3       0     1\n",
       "4       0     1"
      ]
     },
     "execution_count": 45,
     "metadata": {},
     "output_type": "execute_result"
    }
   ],
   "source": [
    "\n",
    "#Create dummy variables\n",
    "sx_dummies = pd.get_dummies(X.sx)\n",
    "\n",
    "sx_dummies.head()"
   ]
  },
  {
   "cell_type": "code",
   "execution_count": 46,
   "id": "cd1beb08",
   "metadata": {},
   "outputs": [
    {
     "name": "stdout",
     "output_type": "stream",
     "text": [
      "     sx    rk  yr         dg  yd  female  male\n",
      "0  male  full   5  doctorate  18       0     1\n",
      "1  male  full   6    masters  21       0     1\n",
      "2  male  full   7  doctorate  13       0     1\n",
      "3  male  full   7  doctorate  15       0     1\n",
      "4  male  full   9  doctorate  17       0     1\n"
     ]
    }
   ],
   "source": [
    "#merge the dummies data with the rest of features\n",
    "merged_X = pd.concat([X, sx_dummies], axis=1)\n",
    "\n",
    "print(merged_X.head())"
   ]
  },
  {
   "cell_type": "code",
   "execution_count": 58,
   "id": "62278445",
   "metadata": {},
   "outputs": [
    {
     "name": "stdout",
     "output_type": "stream",
     "text": [
      "(52, 5)\n"
     ]
    },
    {
     "data": {
      "text/html": [
       "<div>\n",
       "<style scoped>\n",
       "    .dataframe tbody tr th:only-of-type {\n",
       "        vertical-align: middle;\n",
       "    }\n",
       "\n",
       "    .dataframe tbody tr th {\n",
       "        vertical-align: top;\n",
       "    }\n",
       "\n",
       "    .dataframe thead th {\n",
       "        text-align: right;\n",
       "    }\n",
       "</style>\n",
       "<table border=\"1\" class=\"dataframe\">\n",
       "  <thead>\n",
       "    <tr style=\"text-align: right;\">\n",
       "      <th></th>\n",
       "      <th>rk</th>\n",
       "      <th>yr</th>\n",
       "      <th>dg</th>\n",
       "      <th>yd</th>\n",
       "      <th>male</th>\n",
       "    </tr>\n",
       "  </thead>\n",
       "  <tbody>\n",
       "    <tr>\n",
       "      <th>0</th>\n",
       "      <td>full</td>\n",
       "      <td>5</td>\n",
       "      <td>doctorate</td>\n",
       "      <td>18</td>\n",
       "      <td>1</td>\n",
       "    </tr>\n",
       "    <tr>\n",
       "      <th>1</th>\n",
       "      <td>full</td>\n",
       "      <td>6</td>\n",
       "      <td>masters</td>\n",
       "      <td>21</td>\n",
       "      <td>1</td>\n",
       "    </tr>\n",
       "    <tr>\n",
       "      <th>2</th>\n",
       "      <td>full</td>\n",
       "      <td>7</td>\n",
       "      <td>doctorate</td>\n",
       "      <td>13</td>\n",
       "      <td>1</td>\n",
       "    </tr>\n",
       "    <tr>\n",
       "      <th>3</th>\n",
       "      <td>full</td>\n",
       "      <td>7</td>\n",
       "      <td>doctorate</td>\n",
       "      <td>15</td>\n",
       "      <td>1</td>\n",
       "    </tr>\n",
       "    <tr>\n",
       "      <th>4</th>\n",
       "      <td>full</td>\n",
       "      <td>9</td>\n",
       "      <td>doctorate</td>\n",
       "      <td>17</td>\n",
       "      <td>1</td>\n",
       "    </tr>\n",
       "  </tbody>\n",
       "</table>\n",
       "</div>"
      ],
      "text/plain": [
       "     rk  yr         dg  yd  male\n",
       "0  full   5  doctorate  18     1\n",
       "1  full   6    masters  21     1\n",
       "2  full   7  doctorate  13     1\n",
       "3  full   7  doctorate  15     1\n",
       "4  full   9  doctorate  17     1"
      ]
     },
     "execution_count": 58,
     "metadata": {},
     "output_type": "execute_result"
    }
   ],
   "source": [
    "#drop the original sex feature then drop one dummy variable column\n",
    "new_X = merged_X.drop(['sx', 'female'], axis=1)\n",
    "\n",
    "print(final_X.shape)\n",
    "new_X.head()"
   ]
  },
  {
   "cell_type": "markdown",
   "id": "84d2e852",
   "metadata": {},
   "source": [
    "### Label Encoding\n",
    "\n",
    "#### Encoding ordinal variables using sklearn"
   ]
  },
  {
   "cell_type": "code",
   "execution_count": 124,
   "id": "9e7fb227",
   "metadata": {},
   "outputs": [
    {
     "data": {
      "text/html": [
       "<div>\n",
       "<style scoped>\n",
       "    .dataframe tbody tr th:only-of-type {\n",
       "        vertical-align: middle;\n",
       "    }\n",
       "\n",
       "    .dataframe tbody tr th {\n",
       "        vertical-align: top;\n",
       "    }\n",
       "\n",
       "    .dataframe thead th {\n",
       "        text-align: right;\n",
       "    }\n",
       "</style>\n",
       "<table border=\"1\" class=\"dataframe\">\n",
       "  <thead>\n",
       "    <tr style=\"text-align: right;\">\n",
       "      <th></th>\n",
       "      <th>rk</th>\n",
       "      <th>yr</th>\n",
       "      <th>dg</th>\n",
       "      <th>yd</th>\n",
       "      <th>male</th>\n",
       "      <th>rank</th>\n",
       "      <th>degree</th>\n",
       "    </tr>\n",
       "  </thead>\n",
       "  <tbody>\n",
       "    <tr>\n",
       "      <th>0</th>\n",
       "      <td>full</td>\n",
       "      <td>5</td>\n",
       "      <td>doctorate</td>\n",
       "      <td>18</td>\n",
       "      <td>1</td>\n",
       "      <td>2</td>\n",
       "      <td>0</td>\n",
       "    </tr>\n",
       "    <tr>\n",
       "      <th>1</th>\n",
       "      <td>full</td>\n",
       "      <td>6</td>\n",
       "      <td>masters</td>\n",
       "      <td>21</td>\n",
       "      <td>1</td>\n",
       "      <td>2</td>\n",
       "      <td>1</td>\n",
       "    </tr>\n",
       "    <tr>\n",
       "      <th>2</th>\n",
       "      <td>full</td>\n",
       "      <td>7</td>\n",
       "      <td>doctorate</td>\n",
       "      <td>13</td>\n",
       "      <td>1</td>\n",
       "      <td>2</td>\n",
       "      <td>0</td>\n",
       "    </tr>\n",
       "    <tr>\n",
       "      <th>3</th>\n",
       "      <td>full</td>\n",
       "      <td>7</td>\n",
       "      <td>doctorate</td>\n",
       "      <td>15</td>\n",
       "      <td>1</td>\n",
       "      <td>2</td>\n",
       "      <td>0</td>\n",
       "    </tr>\n",
       "    <tr>\n",
       "      <th>4</th>\n",
       "      <td>full</td>\n",
       "      <td>9</td>\n",
       "      <td>doctorate</td>\n",
       "      <td>17</td>\n",
       "      <td>1</td>\n",
       "      <td>2</td>\n",
       "      <td>0</td>\n",
       "    </tr>\n",
       "  </tbody>\n",
       "</table>\n",
       "</div>"
      ],
      "text/plain": [
       "     rk  yr         dg  yd  male  rank  degree\n",
       "0  full   5  doctorate  18     1     2       0\n",
       "1  full   6    masters  21     1     2       1\n",
       "2  full   7  doctorate  13     1     2       0\n",
       "3  full   7  doctorate  15     1     2       0\n",
       "4  full   9  doctorate  17     1     2       0"
      ]
     },
     "execution_count": 124,
     "metadata": {},
     "output_type": "execute_result"
    }
   ],
   "source": [
    "#Import and define label encoder\n",
    "from sklearn.preprocessing import LabelEncoder\n",
    "\n",
    "#fit the rank column into the encoder object then add the encoded column into the features\n",
    "lb_encode = LabelEncoder()\n",
    "new_X['rank'] = lb_encode.fit_transform(new_X[['rk']])\n",
    "\n",
    "#fit the degree column into the encoder object then add the encoded column into the features\n",
    "lb_encode1 = LabelEncoder()\n",
    "new_X['degree'] = lb_encode1.fit_transform(new_X[['dg']])\n",
    "\n",
    "new_X.head()"
   ]
  },
  {
   "cell_type": "code",
   "execution_count": 105,
   "id": "0488f7b5",
   "metadata": {},
   "outputs": [
    {
     "data": {
      "text/html": [
       "<div>\n",
       "<style scoped>\n",
       "    .dataframe tbody tr th:only-of-type {\n",
       "        vertical-align: middle;\n",
       "    }\n",
       "\n",
       "    .dataframe tbody tr th {\n",
       "        vertical-align: top;\n",
       "    }\n",
       "\n",
       "    .dataframe thead th {\n",
       "        text-align: right;\n",
       "    }\n",
       "</style>\n",
       "<table border=\"1\" class=\"dataframe\">\n",
       "  <thead>\n",
       "    <tr style=\"text-align: right;\">\n",
       "      <th></th>\n",
       "      <th>yr</th>\n",
       "      <th>yd</th>\n",
       "      <th>male</th>\n",
       "      <th>rank</th>\n",
       "      <th>degree</th>\n",
       "    </tr>\n",
       "  </thead>\n",
       "  <tbody>\n",
       "    <tr>\n",
       "      <th>0</th>\n",
       "      <td>5</td>\n",
       "      <td>18</td>\n",
       "      <td>1</td>\n",
       "      <td>2</td>\n",
       "      <td>0</td>\n",
       "    </tr>\n",
       "    <tr>\n",
       "      <th>1</th>\n",
       "      <td>6</td>\n",
       "      <td>21</td>\n",
       "      <td>1</td>\n",
       "      <td>2</td>\n",
       "      <td>1</td>\n",
       "    </tr>\n",
       "    <tr>\n",
       "      <th>2</th>\n",
       "      <td>7</td>\n",
       "      <td>13</td>\n",
       "      <td>1</td>\n",
       "      <td>2</td>\n",
       "      <td>0</td>\n",
       "    </tr>\n",
       "    <tr>\n",
       "      <th>3</th>\n",
       "      <td>7</td>\n",
       "      <td>15</td>\n",
       "      <td>1</td>\n",
       "      <td>2</td>\n",
       "      <td>0</td>\n",
       "    </tr>\n",
       "    <tr>\n",
       "      <th>4</th>\n",
       "      <td>9</td>\n",
       "      <td>17</td>\n",
       "      <td>1</td>\n",
       "      <td>2</td>\n",
       "      <td>0</td>\n",
       "    </tr>\n",
       "  </tbody>\n",
       "</table>\n",
       "</div>"
      ],
      "text/plain": [
       "   yr  yd  male  rank  degree\n",
       "0   5  18     1     2       0\n",
       "1   6  21     1     2       1\n",
       "2   7  13     1     2       0\n",
       "3   7  15     1     2       0\n",
       "4   9  17     1     2       0"
      ]
     },
     "execution_count": 105,
     "metadata": {},
     "output_type": "execute_result"
    }
   ],
   "source": [
    "#drop the old rank and degree featrures\n",
    "final_X = new_X.drop(['rk', 'dg'], axis=1)\n",
    "\n",
    "final_X.head()"
   ]
  },
  {
   "cell_type": "markdown",
   "id": "165d5660",
   "metadata": {},
   "source": [
    "### Train a Logistic Regression model to predict professor salary"
   ]
  },
  {
   "cell_type": "code",
   "execution_count": 106,
   "id": "cd60d082",
   "metadata": {},
   "outputs": [
    {
     "name": "stdout",
     "output_type": "stream",
     "text": [
      "Model Accuracy is 88.46\n"
     ]
    }
   ],
   "source": [
    "from sklearn.linear_model import LogisticRegression\n",
    "\n",
    "#create and fit the model\n",
    "logreg = LogisticRegression(max_iter = 5000).fit(final_X,y)\n",
    "y_pred = logreg.predict(final_X)\n",
    "\n",
    "\n",
    "# Evaluate the model \n",
    "from sklearn.metrics import accuracy_score as acs\n",
    "print(f'Model Accuracy is {round(acs(y, y_pred)*100, 2)}')"
   ]
  },
  {
   "cell_type": "code",
   "execution_count": 117,
   "id": "61db1035",
   "metadata": {},
   "outputs": [
    {
     "name": "stdout",
     "output_type": "stream",
     "text": [
      " Predicted salary for the new professor is [25500] Dollars\n"
     ]
    }
   ],
   "source": [
    "#Predict the salary of someone with the below description\n",
    "#6years of experience\n",
    "#15years from graduation \n",
    "#full doctorate female professor with \n",
    "\n",
    "new_prof = [[6, 15, 0, 2, 0]]\n",
    "pred_salary = logreg.predict(new_prof)\n",
    "\n",
    "print(f' Predicted salary for the new professor is {pred_salary} Dollars')"
   ]
  }
 ],
 "metadata": {
  "kernelspec": {
   "display_name": "Python 3",
   "language": "python",
   "name": "python3"
  },
  "language_info": {
   "codemirror_mode": {
    "name": "ipython",
    "version": 3
   },
   "file_extension": ".py",
   "mimetype": "text/x-python",
   "name": "python",
   "nbconvert_exporter": "python",
   "pygments_lexer": "ipython3",
   "version": "3.9.2"
  }
 },
 "nbformat": 4,
 "nbformat_minor": 5
}
